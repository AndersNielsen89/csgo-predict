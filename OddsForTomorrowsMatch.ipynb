{
 "cells": [
  {
   "cell_type": "code",
   "execution_count": 134,
   "metadata": {},
   "outputs": [],
   "source": [
    "import requests\n",
    "from bs4 import BeautifulSoup\n",
    "\n",
    "headers = {'User-Agent': 'Mozilla/5.0 (Macintosh; Intel Mac OS X 10_11_5) AppleWebKit/537.36 (KHTML, like Gecko) Cafari/537.36'}\n",
    "my_url = 'https://www.hltv.org/matches?star=1'\n",
    "\n",
    "page = requests.get(my_url, headers=headers)\n",
    "page_html = page.text\n",
    "\n",
    "soup = BeautifulSoup(page_html,\"html.parser\")"
   ]
  },
  {
   "cell_type": "code",
   "execution_count": 135,
   "metadata": {},
   "outputs": [],
   "source": [
    "match_day_divs = soup.find_all('div', class_=\"match-day\")"
   ]
  },
  {
   "cell_type": "code",
   "execution_count": 136,
   "metadata": {},
   "outputs": [],
   "source": [
    "from datetime import datetime\n",
    "from datetime import timedelta  \n",
    "now = datetime.now()+ timedelta(days=1)"
   ]
  },
  {
   "cell_type": "code",
   "execution_count": 137,
   "metadata": {},
   "outputs": [],
   "source": [
    "def GetMatchesForDay(match_day):\n",
    "    matches = match_day.find_all('a')\n",
    "    match_soups = {}\n",
    "    for match in matches:\n",
    "        #print(match[\"href\"])\n",
    "        my_url = \"https://www.hltv.org\" + match[\"href\"]\n",
    "        page = requests.get(my_url, headers=headers)\n",
    "        page_html = page.text\n",
    "\n",
    "        match_soup = soup = BeautifulSoup(page_html,\"html.parser\")\n",
    "        match_soups[match[\"href\"]] = (match_soup)\n",
    "    return match_soups"
   ]
  },
  {
   "cell_type": "code",
   "execution_count": 138,
   "metadata": {},
   "outputs": [],
   "source": [
    "#match_day = match_day_divs[1]\n",
    "match_soups = {}\n",
    "for match_day in match_day_divs:\n",
    "    match_date_text = match_day.find_all('span')[0].text\n",
    "    match_date = datetime.strptime(match_date_text, '%Y-%m-%d')\n",
    "    if (now.date() == match_date.date()):\n",
    "        match_soups = GetMatchesForDay(match_day)\n",
    "        break"
   ]
  },
  {
   "cell_type": "code",
   "execution_count": null,
   "metadata": {},
   "outputs": [],
   "source": []
  },
  {
   "cell_type": "code",
   "execution_count": 139,
   "metadata": {},
   "outputs": [],
   "source": [
    "data = []\n",
    "providers = [\"geoprovider_bet365 betting_provider\",\"ggbet-odds geoprovider_ggbet betting_provider\", \"pinnacle-odds geoprovider_pinnacle betting_provider\", \"geoprovider_unibet betting_provider\", \"geoprovider_betway betting_provider\"]\n",
    "for match_key in match_soups.keys():\n",
    "    data_entry = []\n",
    "    soup = match_soups[match_key]\n",
    "    match_id = match_key.split('/')[2]\n",
    "    data_entry.append(match_id)\n",
    "    data_entry.append(match_key)\n",
    "    for provider in providers:        \n",
    "        betting_table = soup.find('div', class_=[\"betting standard-box\"])\n",
    "        row = betting_table.find('tr', class_=[provider])\n",
    "        columns = row.find_all('td', class_ = [\"odds-cell border-left\"])\n",
    "        if (len(columns) == 3):\n",
    "            left = columns[0].find('a').text\n",
    "            right = columns[2].find('a').text\n",
    "            data_entry.append(left)\n",
    "            data_entry.append(right)\n",
    "            #print(provider, left.find('a').text, right.find('a').text)\n",
    "        else:\n",
    "            data_entry.append(\"1.0\")\n",
    "            data_entry.append(\"1.0\")\n",
    "    data.append(data_entry)"
   ]
  },
  {
   "cell_type": "code",
   "execution_count": 140,
   "metadata": {},
   "outputs": [],
   "source": [
    "columns = [\"matchId\", \"url\", \"bet365_1\", \"best365_2\", \"ggbet_1\", \"ggbet_2\", \"pinnacle_1\", \"pinnacle_2\", \"unibet_1\", \"unibet_2\", \"betway_1\", \"betway_2\"]"
   ]
  },
  {
   "cell_type": "code",
   "execution_count": 141,
   "metadata": {},
   "outputs": [],
   "source": [
    "file_name = \"odds-\" + datetime.strftime(now.date(), '%Y-%m-%d')"
   ]
  },
  {
   "cell_type": "code",
   "execution_count": 142,
   "metadata": {},
   "outputs": [],
   "source": [
    "import csv\n",
    "myFile = open(file_name + \".csv\", 'w', newline='')\n",
    "with myFile:\n",
    "    writer = csv.writer(myFile)\n",
    "    writer.writerow(columns)\n",
    "    writer.writerows(data)"
   ]
  }
 ],
 "metadata": {
  "kernelspec": {
   "display_name": "Python 3",
   "language": "python",
   "name": "python3"
  },
  "language_info": {
   "codemirror_mode": {
    "name": "ipython",
    "version": 3
   },
   "file_extension": ".py",
   "mimetype": "text/x-python",
   "name": "python",
   "nbconvert_exporter": "python",
   "pygments_lexer": "ipython3",
   "version": "3.7.1"
  }
 },
 "nbformat": 4,
 "nbformat_minor": 2
}
